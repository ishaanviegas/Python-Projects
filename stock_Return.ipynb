{
 "cells": [
  {
   "cell_type": "code",
   "execution_count": 1,
   "metadata": {},
   "outputs": [],
   "source": [
    "import os\n",
    "from datetime import datetime\n",
    "from datetime import date\n",
    "import pandas_datareader.data as web\n",
    "import pandas as pd\n",
    "import numpy as np\n",
    "import excelCol\n",
    "import matplotlib.pyplot as plt\n",
    "%matplotlib inline"
   ]
  },
  {
   "cell_type": "markdown",
   "metadata": {},
   "source": [
    "#### Input Data for Program\n"
   ]
  },
  {
   "cell_type": "code",
   "execution_count": 2,
   "metadata": {},
   "outputs": [],
   "source": [
    "labels = ['AAPL', 'FB', 'MSFT']\n",
    "start_date = '2013-2-01'\n",
    "end_date = date.today()"
   ]
  },
  {
   "cell_type": "code",
   "execution_count": 3,
   "metadata": {},
   "outputs": [],
   "source": [
    "#Get Data for tickers\n",
    "ticker_info ={}\n",
    "for i, j in zip(labels, range(len(labels))):\n",
    "       ticker_info[j] = web.DataReader(i, \"av-daily-adjusted\", start=datetime(2017, 2, 9),end=datetime(2020, 3, 31),api_key='64WDJQ42PC1EKNEF')\n",
    "\n",
    "    "
   ]
  },
  {
   "cell_type": "code",
   "execution_count": 96,
   "metadata": {},
   "outputs": [],
   "source": [
    "# Merge Data frames with only adjusted close price for tickers\n",
    "df = pd.DataFrame(ticker_info[0]['adjusted close'])\n",
    "for key in ticker_info.keys():\n",
    "    if key != 0:\n",
    "        df = df.merge(ticker_info[key]['adjusted close'], left_index = True, right_index = True) \n"
   ]
  },
  {
   "cell_type": "code",
   "execution_count": 97,
   "metadata": {},
   "outputs": [],
   "source": [
    "# Assign the columns names to ticker names\n",
    "df.columns = [labels]\n",
    "df.index = pd.to_datetime(df.index)"
   ]
  },
  {
   "cell_type": "code",
   "execution_count": 98,
   "metadata": {},
   "outputs": [],
   "source": [
    "df = df.resample('M').ffill().pct_change()\n",
    "df.dropna(inplace = True)\n"
   ]
  },
  {
   "cell_type": "code",
   "execution_count": 99,
   "metadata": {},
   "outputs": [],
   "source": [
    "three_yr_ret = np.power(np.prod(1 + df.tail(36)), 12/36) -1\n",
    "five_yr_ret = np.power(np.prod(1 + df.tail(60)), 12/60) -1\n",
    "one_yr_ret = np.power(np.prod(1 + df.tail(12)), 12/12) -1"
   ]
  },
  {
   "cell_type": "code",
   "execution_count": 100,
   "metadata": {},
   "outputs": [],
   "source": [
    "#df.index= df.index - pd.datetime(1899, 12, 31)"
   ]
  },
  {
   "cell_type": "code",
   "execution_count": 101,
   "metadata": {},
   "outputs": [
    {
     "data": {
      "text/html": [
       "<div>\n",
       "<style scoped>\n",
       "    .dataframe tbody tr th:only-of-type {\n",
       "        vertical-align: middle;\n",
       "    }\n",
       "\n",
       "    .dataframe tbody tr th {\n",
       "        vertical-align: top;\n",
       "    }\n",
       "\n",
       "    .dataframe thead tr th {\n",
       "        text-align: left;\n",
       "    }\n",
       "</style>\n",
       "<table border=\"1\" class=\"dataframe\">\n",
       "  <thead>\n",
       "    <tr>\n",
       "      <th></th>\n",
       "      <th>AAPL</th>\n",
       "      <th>FB</th>\n",
       "      <th>MSFT</th>\n",
       "    </tr>\n",
       "  </thead>\n",
       "  <tbody>\n",
       "    <tr>\n",
       "      <td>2017-03-31</td>\n",
       "      <td>0.048690</td>\n",
       "      <td>0.048030</td>\n",
       "      <td>0.029385</td>\n",
       "    </tr>\n",
       "    <tr>\n",
       "      <td>2017-04-30</td>\n",
       "      <td>-0.000070</td>\n",
       "      <td>0.057726</td>\n",
       "      <td>0.039477</td>\n",
       "    </tr>\n",
       "    <tr>\n",
       "      <td>2017-05-31</td>\n",
       "      <td>0.067770</td>\n",
       "      <td>0.008053</td>\n",
       "      <td>0.025890</td>\n",
       "    </tr>\n",
       "    <tr>\n",
       "      <td>2017-06-30</td>\n",
       "      <td>-0.057214</td>\n",
       "      <td>-0.003169</td>\n",
       "      <td>-0.013029</td>\n",
       "    </tr>\n",
       "    <tr>\n",
       "      <td>2017-07-31</td>\n",
       "      <td>0.032704</td>\n",
       "      <td>0.121009</td>\n",
       "      <td>0.054692</td>\n",
       "    </tr>\n",
       "  </tbody>\n",
       "</table>\n",
       "</div>"
      ],
      "text/plain": [
       "                AAPL        FB      MSFT\n",
       "2017-03-31  0.048690  0.048030  0.029385\n",
       "2017-04-30 -0.000070  0.057726  0.039477\n",
       "2017-05-31  0.067770  0.008053  0.025890\n",
       "2017-06-30 -0.057214 -0.003169 -0.013029\n",
       "2017-07-31  0.032704  0.121009  0.054692"
      ]
     },
     "execution_count": 101,
     "metadata": {},
     "output_type": "execute_result"
    }
   ],
   "source": [
    "df.head()"
   ]
  },
  {
   "cell_type": "code",
   "execution_count": 115,
   "metadata": {},
   "outputs": [],
   "source": [
    "writer = pd.ExcelWriter('test.xlsx', engine='xlsxwriter',date_format='mmm dd yyyy',datetime_format='mm/dd/yyyy',)\n",
    "startrow = 5\n",
    "startcol = 3\n",
    "\n",
    "df.to_excel(writer, sheet_name='Sheet1', startrow= 5, startcol=3, index = True)\n",
    "# Get the xlsxwriter objects from the dataframe writer object.\n",
    "workbook  = writer.book\n",
    "worksheet = writer.sheets['Sheet1']\n",
    "\n",
    "format1 = workbook.add_format({'num_format': '#,##0.00%'})\n",
    "format2 = workbook.add_format({'num_format': '0%'})\n",
    "dateformat = workbook.add_format({'num_format': 'mm-dd-yyyy'})\n",
    "\n",
    "worksheet.set_column(first_col=0, last_col=10, cell_format=format1)\n",
    "#worksheet.set_column(first_col=3, last_col=3, cell_format=dateformat)\n",
    "\n",
    "chart1 = workbook.add_chart({'type': 'line'})  \n",
    "for i in range(len(df.columns)):\n",
    "    col = i + startcol\n",
    "    chart1.add_series({\n",
    "        'name':       ['Sheet1', startrow, col + 1],\n",
    "        'categories': ['Sheet1', startrow, startcol, startrow + len(df), startcol],\n",
    "        'values':     ['Sheet1', startrow + 1, col + 1, startrow + len(df), col + 1 ],\n",
    "        'data_labels': { 'position': 'below'},\n",
    "    })\n",
    "\n",
    "# Add a chart title   \n",
    "chart1.set_title ({'name': 'Return Data'})  \n",
    "    \n",
    "# Add x-axis label  \n",
    "\n",
    "chart1.set_x_axis({'name': 'Date','num_format': 'mmm-yyyy', 'label_position': 'low'})\n",
    "\n",
    "# Add y-axis label  \n",
    "chart1.set_y_axis({'name': 'Return'})  \n",
    "    \n",
    "# Set an Excel chart style.  \n",
    "chart1.set_style(11)  \n",
    "    \n",
    "# add chart to the worksheet with given \n",
    "# offset values at the top-left corner of \n",
    "# a chart is anchored to cell D2 .   \n",
    "worksheet.insert_chart('K2', chart1, {'x_offset': 25, 'y_offset': 10})  \n",
    "    \n",
    "    \n",
    "writer.save()"
   ]
  }
 ],
 "metadata": {
  "kernelspec": {
   "display_name": "Python 3",
   "language": "python",
   "name": "python3"
  },
  "language_info": {
   "codemirror_mode": {
    "name": "ipython",
    "version": 3
   },
   "file_extension": ".py",
   "mimetype": "text/x-python",
   "name": "python",
   "nbconvert_exporter": "python",
   "pygments_lexer": "ipython3",
   "version": "3.7.4"
  }
 },
 "nbformat": 4,
 "nbformat_minor": 4
}
